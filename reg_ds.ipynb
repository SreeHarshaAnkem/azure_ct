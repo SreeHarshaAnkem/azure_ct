{
 "cells": [
  {
   "cell_type": "code",
   "execution_count": 5,
   "id": "8067b5b5",
   "metadata": {},
   "outputs": [],
   "source": [
    "from azureml.core import Workspace,Datastore,Dataset"
   ]
  },
  {
   "cell_type": "code",
   "execution_count": 7,
   "id": "06bba308",
   "metadata": {},
   "outputs": [
    {
     "name": "stdout",
     "output_type": "stream",
     "text": [
      "Workspace.create(name='mlws', subscription_id='d8f2241f-6180-41e3-a1de-149047238a9a', resource_group='mlrg')\n"
     ]
    }
   ],
   "source": [
    "ws = Workspace.from_config()\n",
    "print(ws)"
   ]
  },
  {
   "cell_type": "code",
   "execution_count": 19,
   "id": "bf52ee2b",
   "metadata": {},
   "outputs": [
    {
     "name": "stdout",
     "output_type": "stream",
     "text": [
      "Validating arguments.\n",
      "Arguments validated.\n",
      "Uploading file to winequality-red\n",
      "Uploading an estimated of 2 files\n",
      "Target already exists. Skipping upload for winequality-red/winequality-red.csv\n",
      "Target already exists. Skipping upload for winequality-red/.ipynb_checkpoints/winequality-red-checkpoint.csv\n",
      "Uploaded 0 files\n",
      "Creating new dataset\n"
     ]
    }
   ],
   "source": [
    "# retrieve an existing datastore in the workspace by name\n",
    "datastore  = ws.get_default_datastore()\n",
    "#upload directory\n",
    "dataset = Dataset.File.upload_directory(src_dir=\"data\", \n",
    "                                        target=(datastore, \"wq\"))"
   ]
  },
  {
   "cell_type": "code",
   "execution_count": 24,
   "id": "5a1b79f2",
   "metadata": {},
   "outputs": [
    {
     "name": "stdout",
     "output_type": "stream",
     "text": [
      "/winequality-red/.git/COMMIT_EDITMSG\n",
      "/winequality-red/.git/FETCH_HEAD\n",
      "/winequality-red/.git/HEAD\n",
      "/winequality-red/.git/ORIG_HEAD\n",
      "/winequality-red/.git/config\n",
      "/winequality-red/.git/description\n",
      "/winequality-red/.git/hooks/applypatch-msg.sample\n",
      "/winequality-red/.git/hooks/commit-msg.sample\n",
      "/winequality-red/.git/hooks/fsmonitor-watchman.sample\n",
      "/winequality-red/.git/hooks/post-update.sample\n",
      "/winequality-red/.git/hooks/pre-applypatch.sample\n",
      "/winequality-red/.git/hooks/pre-commit.sample\n",
      "/winequality-red/.git/hooks/pre-merge-commit.sample\n",
      "/winequality-red/.git/hooks/pre-push.sample\n",
      "/winequality-red/.git/hooks/pre-rebase.sample\n",
      "/winequality-red/.git/hooks/pre-receive.sample\n",
      "/winequality-red/.git/hooks/prepare-commit-msg.sample\n",
      "/winequality-red/.git/hooks/push-to-checkout.sample\n",
      "/winequality-red/.git/hooks/update.sample\n",
      "/winequality-red/.git/index\n",
      "/winequality-red/.git/info/exclude\n",
      "/winequality-red/.git/logs/HEAD\n",
      "/winequality-red/.git/logs/refs/heads/dev\n",
      "/winequality-red/.git/logs/refs/remotes/origin/HEAD\n",
      "/winequality-red/.git/logs/refs/remotes/origin/dev\n",
      "/winequality-red/.git/objects/08/878906134015cbe90386fb8660f958c013d85a\n",
      "/winequality-red/.git/objects/59/f81fc726c86882d6fc78e03a66ead247074028\n",
      "/winequality-red/.git/objects/78/e8df86485a3bde0fd4507e902a6581b0b3fb53\n",
      "/winequality-red/.git/objects/8c/d9b4b7a8aec6c92a97589abbffa257e77e6760\n",
      "/winequality-red/.git/objects/aa/dd4f43020977976a745fc53234e0f56d848de3\n",
      "/winequality-red/.git/objects/c5/0b2dd10d0cd5fd0b1c526db771148d2ae11e65\n",
      "/winequality-red/.git/objects/f9/33c9a13ef8d301a764f8a3ec38ea4baeec2071\n",
      "/winequality-red/.git/objects/pack/pack-af354692610cda4cc469817d1ceead7c21dea69b.idx\n",
      "/winequality-red/.git/objects/pack/pack-af354692610cda4cc469817d1ceead7c21dea69b.pack\n",
      "/winequality-red/.git/packed-refs\n",
      "/winequality-red/.git/refs/heads/dev\n",
      "/winequality-red/.git/refs/remotes/origin/HEAD\n",
      "/winequality-red/.git/refs/remotes/origin/dev\n",
      "/winequality-red/.github/workflows/mlops.yaml\n",
      "/winequality-red/.ipynb_checkpoints/reg_ds-checkpoint.ipynb\n",
      "/winequality-red/.ipynb_checkpoints/winequality-red-checkpoint.csv\n",
      "/winequality-red/README.md\n",
      "/winequality-red/reg_ds.ipynb\n",
      "/winequality-red/scoring/aci_deploy.py\n",
      "/winequality-red/scoring/scoring/env.yaml\n",
      "/winequality-red/scoring/scoring/scoring.py\n",
      "/winequality-red/training/.ipynb_checkpoints/training_pipeline-checkpoint.py\n",
      "/winequality-red/training/training_pipeline.py\n",
      "/winequality-red/training/training_pipeline/.ipynb_checkpoints/train-checkpoint.py\n",
      "/winequality-red/training/training_pipeline/prep.py\n",
      "/winequality-red/training/training_pipeline/train.py\n",
      "/winequality-red/winequality-red.csv\n",
      "/winequality/.git/COMMIT_EDITMSG\n",
      "/winequality/.git/FETCH_HEAD\n",
      "/winequality/.git/HEAD\n",
      "/winequality/.git/ORIG_HEAD\n",
      "/winequality/.git/config\n",
      "/winequality/.git/description\n",
      "/winequality/.git/hooks/applypatch-msg.sample\n",
      "/winequality/.git/hooks/commit-msg.sample\n",
      "/winequality/.git/hooks/fsmonitor-watchman.sample\n",
      "/winequality/.git/hooks/post-update.sample\n",
      "/winequality/.git/hooks/pre-applypatch.sample\n",
      "/winequality/.git/hooks/pre-commit.sample\n",
      "/winequality/.git/hooks/pre-merge-commit.sample\n",
      "/winequality/.git/hooks/pre-push.sample\n",
      "/winequality/.git/hooks/pre-rebase.sample\n",
      "/winequality/.git/hooks/pre-receive.sample\n",
      "/winequality/.git/hooks/prepare-commit-msg.sample\n",
      "/winequality/.git/hooks/push-to-checkout.sample\n",
      "/winequality/.git/hooks/update.sample\n",
      "/winequality/.git/index\n",
      "/winequality/.git/info/exclude\n",
      "/winequality/.git/logs/HEAD\n",
      "/winequality/.git/logs/refs/heads/dev\n",
      "/winequality/.git/logs/refs/remotes/origin/HEAD\n",
      "/winequality/.git/logs/refs/remotes/origin/dev\n",
      "/winequality/.git/objects/08/878906134015cbe90386fb8660f958c013d85a\n",
      "/winequality/.git/objects/59/f81fc726c86882d6fc78e03a66ead247074028\n",
      "/winequality/.git/objects/78/e8df86485a3bde0fd4507e902a6581b0b3fb53\n",
      "/winequality/.git/objects/8c/d9b4b7a8aec6c92a97589abbffa257e77e6760\n",
      "/winequality/.git/objects/aa/dd4f43020977976a745fc53234e0f56d848de3\n",
      "/winequality/.git/objects/c5/0b2dd10d0cd5fd0b1c526db771148d2ae11e65\n",
      "/winequality/.git/objects/f9/33c9a13ef8d301a764f8a3ec38ea4baeec2071\n",
      "/winequality/.git/objects/pack/pack-af354692610cda4cc469817d1ceead7c21dea69b.idx\n",
      "/winequality/.git/objects/pack/pack-af354692610cda4cc469817d1ceead7c21dea69b.pack\n",
      "/winequality/.git/packed-refs\n",
      "/winequality/.git/refs/heads/dev\n",
      "/winequality/.git/refs/remotes/origin/HEAD\n",
      "/winequality/.git/refs/remotes/origin/dev\n",
      "/winequality/.github/workflows/mlops.yaml\n",
      "/winequality/.ipynb_checkpoints/reg_ds-checkpoint.ipynb\n",
      "/winequality/README.md\n",
      "/winequality/reg_ds.ipynb\n",
      "/winequality/scoring/aci_deploy.py\n",
      "/winequality/scoring/scoring/env.yaml\n",
      "/winequality/scoring/scoring/scoring.py\n",
      "/winequality/training/.ipynb_checkpoints/training_pipeline-checkpoint.py\n",
      "/winequality/training/training_pipeline.py\n",
      "/winequality/training/training_pipeline/.ipynb_checkpoints/train-checkpoint.py\n",
      "/winequality/training/training_pipeline/prep.py\n",
      "/winequality/training/training_pipeline/train.py\n",
      "/winequality/winequality-red.csv\n"
     ]
    }
   ],
   "source": [
    "fd = Dataset.File.from_files(path=(datastore,'/'))\n",
    "for fp in fd.to_path():\n",
    "    print(fp)"
   ]
  },
  {
   "cell_type": "code",
   "execution_count": 26,
   "id": "fd886a00",
   "metadata": {},
   "outputs": [],
   "source": [
    "# create a TabularDataset from 1 file paths in datastore\n",
    "#datastore_paths = [(datastore, \"winequality\")]\n",
    "#create a tabular object from csv\n",
    "custom_ds = Dataset.Tabular.from_delimited_files(path=(datastore,\"/wq/winequality-red.csv\"),separator=';', header=True,encoding='utf8')\n"
   ]
  },
  {
   "cell_type": "code",
   "execution_count": 28,
   "id": "c0a47ea6",
   "metadata": {},
   "outputs": [
    {
     "data": {
      "text/html": [
       "<div>\n",
       "<style scoped>\n",
       "    .dataframe tbody tr th:only-of-type {\n",
       "        vertical-align: middle;\n",
       "    }\n",
       "\n",
       "    .dataframe tbody tr th {\n",
       "        vertical-align: top;\n",
       "    }\n",
       "\n",
       "    .dataframe thead th {\n",
       "        text-align: right;\n",
       "    }\n",
       "</style>\n",
       "<table border=\"1\" class=\"dataframe\">\n",
       "  <thead>\n",
       "    <tr style=\"text-align: right;\">\n",
       "      <th></th>\n",
       "      <th>fixed acidity</th>\n",
       "      <th>volatile acidity</th>\n",
       "      <th>citric acid</th>\n",
       "      <th>residual sugar</th>\n",
       "      <th>chlorides</th>\n",
       "      <th>free sulfur dioxide</th>\n",
       "      <th>total sulfur dioxide</th>\n",
       "      <th>density</th>\n",
       "      <th>pH</th>\n",
       "      <th>sulphates</th>\n",
       "      <th>alcohol</th>\n",
       "      <th>quality</th>\n",
       "    </tr>\n",
       "  </thead>\n",
       "  <tbody>\n",
       "    <tr>\n",
       "      <th>0</th>\n",
       "      <td>7.4</td>\n",
       "      <td>0.70</td>\n",
       "      <td>0.00</td>\n",
       "      <td>1.9</td>\n",
       "      <td>0.076</td>\n",
       "      <td>11</td>\n",
       "      <td>34</td>\n",
       "      <td>0.9978</td>\n",
       "      <td>3.51</td>\n",
       "      <td>0.56</td>\n",
       "      <td>9.4</td>\n",
       "      <td>5</td>\n",
       "    </tr>\n",
       "    <tr>\n",
       "      <th>1</th>\n",
       "      <td>7.8</td>\n",
       "      <td>0.88</td>\n",
       "      <td>0.00</td>\n",
       "      <td>2.6</td>\n",
       "      <td>0.098</td>\n",
       "      <td>25</td>\n",
       "      <td>67</td>\n",
       "      <td>0.9968</td>\n",
       "      <td>3.20</td>\n",
       "      <td>0.68</td>\n",
       "      <td>9.8</td>\n",
       "      <td>5</td>\n",
       "    </tr>\n",
       "    <tr>\n",
       "      <th>2</th>\n",
       "      <td>7.8</td>\n",
       "      <td>0.76</td>\n",
       "      <td>0.04</td>\n",
       "      <td>2.3</td>\n",
       "      <td>0.092</td>\n",
       "      <td>15</td>\n",
       "      <td>54</td>\n",
       "      <td>0.9970</td>\n",
       "      <td>3.26</td>\n",
       "      <td>0.65</td>\n",
       "      <td>9.8</td>\n",
       "      <td>5</td>\n",
       "    </tr>\n",
       "  </tbody>\n",
       "</table>\n",
       "</div>"
      ],
      "text/plain": [
       "   fixed acidity  volatile acidity  citric acid  residual sugar  chlorides  \\\n",
       "0            7.4              0.70         0.00             1.9      0.076   \n",
       "1            7.8              0.88         0.00             2.6      0.098   \n",
       "2            7.8              0.76         0.04             2.3      0.092   \n",
       "\n",
       "   free sulfur dioxide  total sulfur dioxide  density    pH  sulphates  \\\n",
       "0                   11                    34   0.9978  3.51       0.56   \n",
       "1                   25                    67   0.9968  3.20       0.68   \n",
       "2                   15                    54   0.9970  3.26       0.65   \n",
       "\n",
       "   alcohol  quality  \n",
       "0      9.4        5  \n",
       "1      9.8        5  \n",
       "2      9.8        5  "
      ]
     },
     "execution_count": 28,
     "metadata": {},
     "output_type": "execute_result"
    }
   ],
   "source": [
    "custom_ds.take(3).to_pandas_dataframe()"
   ]
  },
  {
   "cell_type": "code",
   "execution_count": 29,
   "id": "9237a640",
   "metadata": {},
   "outputs": [
    {
     "data": {
      "text/plain": [
       "{\n",
       "  \"source\": [\n",
       "    \"('workspaceblobstore', 'winequality-red/winequality-red.csv')\"\n",
       "  ],\n",
       "  \"definition\": [\n",
       "    \"GetDatastoreFiles\",\n",
       "    \"ParseDelimited\",\n",
       "    \"DropColumns\",\n",
       "    \"SetColumnTypes\"\n",
       "  ],\n",
       "  \"registration\": {\n",
       "    \"id\": \"d5983c7e-aaf9-4274-8d43-f9a24cac910c\",\n",
       "    \"name\": \"winequality\",\n",
       "    \"version\": 1,\n",
       "    \"description\": \"desc wq\",\n",
       "    \"workspace\": \"Workspace.create(name='mlws', subscription_id='d8f2241f-6180-41e3-a1de-149047238a9a', resource_group='mlrg')\"\n",
       "  }\n",
       "}"
      ]
     },
     "execution_count": 29,
     "metadata": {},
     "output_type": "execute_result"
    }
   ],
   "source": [
    "#register dataset\n",
    "custom_ds.register(workspace=ws,\n",
    "                  name=\"winequality\",\n",
    "                  description=\"desc wq\")"
   ]
  },
  {
   "cell_type": "code",
   "execution_count": 30,
   "id": "8b6e4de3",
   "metadata": {},
   "outputs": [
    {
     "data": {
      "text/html": [
       "<div>\n",
       "<style scoped>\n",
       "    .dataframe tbody tr th:only-of-type {\n",
       "        vertical-align: middle;\n",
       "    }\n",
       "\n",
       "    .dataframe tbody tr th {\n",
       "        vertical-align: top;\n",
       "    }\n",
       "\n",
       "    .dataframe thead th {\n",
       "        text-align: right;\n",
       "    }\n",
       "</style>\n",
       "<table border=\"1\" class=\"dataframe\">\n",
       "  <thead>\n",
       "    <tr style=\"text-align: right;\">\n",
       "      <th></th>\n",
       "      <th>fixed acidity</th>\n",
       "      <th>volatile acidity</th>\n",
       "      <th>citric acid</th>\n",
       "      <th>residual sugar</th>\n",
       "      <th>chlorides</th>\n",
       "      <th>free sulfur dioxide</th>\n",
       "      <th>total sulfur dioxide</th>\n",
       "      <th>density</th>\n",
       "      <th>pH</th>\n",
       "      <th>sulphates</th>\n",
       "      <th>alcohol</th>\n",
       "      <th>quality</th>\n",
       "    </tr>\n",
       "  </thead>\n",
       "  <tbody>\n",
       "    <tr>\n",
       "      <th>0</th>\n",
       "      <td>7.4</td>\n",
       "      <td>0.70</td>\n",
       "      <td>0.00</td>\n",
       "      <td>1.9</td>\n",
       "      <td>0.076</td>\n",
       "      <td>11.0</td>\n",
       "      <td>34.0</td>\n",
       "      <td>0.9978</td>\n",
       "      <td>3.51</td>\n",
       "      <td>0.56</td>\n",
       "      <td>9.4</td>\n",
       "      <td>5</td>\n",
       "    </tr>\n",
       "    <tr>\n",
       "      <th>1</th>\n",
       "      <td>7.8</td>\n",
       "      <td>0.88</td>\n",
       "      <td>0.00</td>\n",
       "      <td>2.6</td>\n",
       "      <td>0.098</td>\n",
       "      <td>25.0</td>\n",
       "      <td>67.0</td>\n",
       "      <td>0.9968</td>\n",
       "      <td>3.20</td>\n",
       "      <td>0.68</td>\n",
       "      <td>9.8</td>\n",
       "      <td>5</td>\n",
       "    </tr>\n",
       "    <tr>\n",
       "      <th>2</th>\n",
       "      <td>7.8</td>\n",
       "      <td>0.76</td>\n",
       "      <td>0.04</td>\n",
       "      <td>2.3</td>\n",
       "      <td>0.092</td>\n",
       "      <td>15.0</td>\n",
       "      <td>54.0</td>\n",
       "      <td>0.9970</td>\n",
       "      <td>3.26</td>\n",
       "      <td>0.65</td>\n",
       "      <td>9.8</td>\n",
       "      <td>5</td>\n",
       "    </tr>\n",
       "  </tbody>\n",
       "</table>\n",
       "</div>"
      ],
      "text/plain": [
       "   fixed acidity  volatile acidity  citric acid  residual sugar  chlorides  \\\n",
       "0            7.4              0.70         0.00             1.9      0.076   \n",
       "1            7.8              0.88         0.00             2.6      0.098   \n",
       "2            7.8              0.76         0.04             2.3      0.092   \n",
       "\n",
       "   free sulfur dioxide  total sulfur dioxide  density    pH  sulphates  \\\n",
       "0                 11.0                  34.0   0.9978  3.51       0.56   \n",
       "1                 25.0                  67.0   0.9968  3.20       0.68   \n",
       "2                 15.0                  54.0   0.9970  3.26       0.65   \n",
       "\n",
       "   alcohol  quality  \n",
       "0      9.4        5  \n",
       "1      9.8        5  \n",
       "2      9.8        5  "
      ]
     },
     "execution_count": 30,
     "metadata": {},
     "output_type": "execute_result"
    }
   ],
   "source": [
    "ds = Dataset.get_by_name(ws,\"winequality\").to_pandas_dataframe()\n",
    "ds.head(3)"
   ]
  },
  {
   "cell_type": "code",
   "execution_count": 32,
   "id": "f4a7a73f",
   "metadata": {},
   "outputs": [],
   "source": [
    "#create train/test sets\n",
    "\n",
    "from sklearn.model_selection import train_test_split\n",
    "y = ds['quality']\n",
    "X = ds.drop('quality',axis=1)\n",
    "X_train, X_test, y_train, y_test = train_test_split(X, y, test_size=0.33, random_state=42)"
   ]
  },
  {
   "cell_type": "code",
   "execution_count": 34,
   "id": "ff22333e",
   "metadata": {},
   "outputs": [
    {
     "data": {
      "text/plain": [
       "Index(['fixed acidity', 'volatile acidity', 'citric acid', 'residual sugar',\n",
       "       'chlorides', 'free sulfur dioxide', 'total sulfur dioxide', 'density',\n",
       "       'pH', 'sulphates', 'alcohol'],\n",
       "      dtype='object')"
      ]
     },
     "execution_count": 34,
     "metadata": {},
     "output_type": "execute_result"
    }
   ],
   "source": [
    "X_train.columns"
   ]
  },
  {
   "cell_type": "code",
   "execution_count": 35,
   "id": "2dd330eb",
   "metadata": {},
   "outputs": [
    {
     "name": "stderr",
     "output_type": "stream",
     "text": [
      "/anaconda/envs/azureml_py36/lib/python3.6/site-packages/ipykernel_launcher.py:2: SettingWithCopyWarning: \n",
      "A value is trying to be set on a copy of a slice from a DataFrame.\n",
      "Try using .loc[row_indexer,col_indexer] = value instead\n",
      "\n",
      "See the caveats in the documentation: http://pandas.pydata.org/pandas-docs/stable/user_guide/indexing.html#returning-a-view-versus-a-copy\n",
      "  \n"
     ]
    },
    {
     "data": {
      "text/plain": [
       "Index(['fixed acidity', 'volatile acidity', 'citric acid', 'residual sugar',\n",
       "       'chlorides', 'free sulfur dioxide', 'total sulfur dioxide', 'density',\n",
       "       'pH', 'sulphates', 'alcohol', 'quality'],\n",
       "      dtype='object')"
      ]
     },
     "execution_count": 35,
     "metadata": {},
     "output_type": "execute_result"
    }
   ],
   "source": [
    "train_dt = X_train\n",
    "train_dt['quality'] = y_train\n",
    "train_dt.columns\n"
   ]
  },
  {
   "cell_type": "code",
   "execution_count": 36,
   "id": "ad7b17a9",
   "metadata": {},
   "outputs": [
    {
     "name": "stderr",
     "output_type": "stream",
     "text": [
      "/anaconda/envs/azureml_py36/lib/python3.6/site-packages/ipykernel_launcher.py:2: SettingWithCopyWarning: \n",
      "A value is trying to be set on a copy of a slice from a DataFrame.\n",
      "Try using .loc[row_indexer,col_indexer] = value instead\n",
      "\n",
      "See the caveats in the documentation: http://pandas.pydata.org/pandas-docs/stable/user_guide/indexing.html#returning-a-view-versus-a-copy\n",
      "  \n"
     ]
    },
    {
     "data": {
      "text/plain": [
       "Index(['fixed acidity', 'volatile acidity', 'citric acid', 'residual sugar',\n",
       "       'chlorides', 'free sulfur dioxide', 'total sulfur dioxide', 'density',\n",
       "       'pH', 'sulphates', 'alcohol', 'quality'],\n",
       "      dtype='object')"
      ]
     },
     "execution_count": 36,
     "metadata": {},
     "output_type": "execute_result"
    }
   ],
   "source": [
    "test_dt = X_test\n",
    "test_dt['quality'] = y_test\n",
    "test_dt.columns"
   ]
  },
  {
   "cell_type": "code",
   "execution_count": 37,
   "id": "d85a9aca",
   "metadata": {},
   "outputs": [],
   "source": [
    "train_dt.to_csv(\"data/wine-quality-train.csv\")\n",
    "test_dt.to_csv(\"data/wine-quality-test.csv\")"
   ]
  },
  {
   "cell_type": "code",
   "execution_count": null,
   "id": "39946c3a",
   "metadata": {},
   "outputs": [],
   "source": []
  },
  {
   "cell_type": "code",
   "execution_count": 43,
   "id": "b7d24b8c",
   "metadata": {},
   "outputs": [
    {
     "name": "stdout",
     "output_type": "stream",
     "text": [
      "Validating arguments.\n",
      "Arguments validated.\n",
      "Uploading file to wq\n",
      "Uploading an estimated of 4 files\n",
      "Uploading data/wine-quality-test.csv\n",
      "Uploaded data/wine-quality-test.csv, 1 files out of an estimated total of 4\n",
      "Uploading data/wine-quality-train.csv\n",
      "Uploaded data/wine-quality-train.csv, 2 files out of an estimated total of 4\n",
      "Uploading data/winequality-red.csv\n",
      "Uploaded data/winequality-red.csv, 3 files out of an estimated total of 4\n",
      "Uploading data/.ipynb_checkpoints/winequality-red-checkpoint.csv\n",
      "Uploaded data/.ipynb_checkpoints/winequality-red-checkpoint.csv, 4 files out of an estimated total of 4\n",
      "Uploaded 4 files\n",
      "Creating new dataset\n"
     ]
    }
   ],
   "source": [
    "#datastore.upload_files(files=['data/wine-quality-train.csv','data/wine-quality-test.csv'])\n",
    "#upload train & test sets to datastore\n",
    "dataset2 = Dataset.File.upload_directory(src_dir=\"data\", \n",
    "                                        target=(datastore, \"wq\"))"
   ]
  },
  {
   "cell_type": "code",
   "execution_count": 47,
   "id": "2af03e3d",
   "metadata": {},
   "outputs": [],
   "source": [
    "trcsvpath = [(datastore,'/wq/wine-quality-train.csv')]\n",
    "tstcsvpath = [(datastore,'/wq/wine-quality-test.csv')]\n",
    "\n",
    "trds = Dataset.Tabular.from_delimited_files(path=trcsvpath)\n",
    "trds = trds.register(ws,'wine-quality-train')\n",
    "tstds = Dataset.Tabular.from_delimited_files(path=tstcsvpath)\n",
    "tstds = trds.register(ws,'wine-quality-test')"
   ]
  },
  {
   "cell_type": "code",
   "execution_count": 50,
   "id": "83c5f755",
   "metadata": {},
   "outputs": [
    {
     "data": {
      "text/html": [
       "<div>\n",
       "<style scoped>\n",
       "    .dataframe tbody tr th:only-of-type {\n",
       "        vertical-align: middle;\n",
       "    }\n",
       "\n",
       "    .dataframe tbody tr th {\n",
       "        vertical-align: top;\n",
       "    }\n",
       "\n",
       "    .dataframe thead th {\n",
       "        text-align: right;\n",
       "    }\n",
       "</style>\n",
       "<table border=\"1\" class=\"dataframe\">\n",
       "  <thead>\n",
       "    <tr style=\"text-align: right;\">\n",
       "      <th></th>\n",
       "      <th>Column1</th>\n",
       "      <th>fixed acidity</th>\n",
       "      <th>volatile acidity</th>\n",
       "      <th>citric acid</th>\n",
       "      <th>residual sugar</th>\n",
       "      <th>chlorides</th>\n",
       "      <th>free sulfur dioxide</th>\n",
       "      <th>total sulfur dioxide</th>\n",
       "      <th>density</th>\n",
       "      <th>pH</th>\n",
       "      <th>sulphates</th>\n",
       "      <th>alcohol</th>\n",
       "      <th>quality</th>\n",
       "    </tr>\n",
       "  </thead>\n",
       "  <tbody>\n",
       "    <tr>\n",
       "      <th>0</th>\n",
       "      <td>548</td>\n",
       "      <td>12.4</td>\n",
       "      <td>0.35</td>\n",
       "      <td>0.49</td>\n",
       "      <td>2.6</td>\n",
       "      <td>0.079</td>\n",
       "      <td>27.0</td>\n",
       "      <td>69.0</td>\n",
       "      <td>0.99940</td>\n",
       "      <td>3.12</td>\n",
       "      <td>0.75</td>\n",
       "      <td>10.4</td>\n",
       "      <td>6</td>\n",
       "    </tr>\n",
       "    <tr>\n",
       "      <th>1</th>\n",
       "      <td>355</td>\n",
       "      <td>6.7</td>\n",
       "      <td>0.75</td>\n",
       "      <td>0.01</td>\n",
       "      <td>2.4</td>\n",
       "      <td>0.078</td>\n",
       "      <td>17.0</td>\n",
       "      <td>32.0</td>\n",
       "      <td>0.99550</td>\n",
       "      <td>3.55</td>\n",
       "      <td>0.61</td>\n",
       "      <td>12.8</td>\n",
       "      <td>6</td>\n",
       "    </tr>\n",
       "    <tr>\n",
       "      <th>2</th>\n",
       "      <td>1296</td>\n",
       "      <td>6.6</td>\n",
       "      <td>0.63</td>\n",
       "      <td>0.00</td>\n",
       "      <td>4.3</td>\n",
       "      <td>0.093</td>\n",
       "      <td>51.0</td>\n",
       "      <td>NaN</td>\n",
       "      <td>0.99558</td>\n",
       "      <td>3.20</td>\n",
       "      <td>0.45</td>\n",
       "      <td>9.5</td>\n",
       "      <td>5</td>\n",
       "    </tr>\n",
       "  </tbody>\n",
       "</table>\n",
       "</div>"
      ],
      "text/plain": [
       "   Column1  fixed acidity  volatile acidity  citric acid  residual sugar  \\\n",
       "0      548           12.4              0.35         0.49             2.6   \n",
       "1      355            6.7              0.75         0.01             2.4   \n",
       "2     1296            6.6              0.63         0.00             4.3   \n",
       "\n",
       "   chlorides  free sulfur dioxide  total sulfur dioxide  density    pH  \\\n",
       "0      0.079                 27.0                  69.0  0.99940  3.12   \n",
       "1      0.078                 17.0                  32.0  0.99550  3.55   \n",
       "2      0.093                 51.0                   NaN  0.99558  3.20   \n",
       "\n",
       "   sulphates  alcohol  quality  \n",
       "0       0.75     10.4        6  \n",
       "1       0.61     12.8        6  \n",
       "2       0.45      9.5        5  "
      ]
     },
     "execution_count": 50,
     "metadata": {},
     "output_type": "execute_result"
    }
   ],
   "source": [
    "Dataset.get_by_name(ws,'wine-quality-train').to_pandas_dataframe().head(3)"
   ]
  },
  {
   "cell_type": "code",
   "execution_count": null,
   "id": "a6611d05",
   "metadata": {},
   "outputs": [],
   "source": []
  }
 ],
 "metadata": {
  "kernelspec": {
   "display_name": "Python 3.6 - AzureML",
   "language": "python",
   "name": "python3-azureml"
  },
  "language_info": {
   "codemirror_mode": {
    "name": "ipython",
    "version": 3
   },
   "file_extension": ".py",
   "mimetype": "text/x-python",
   "name": "python",
   "nbconvert_exporter": "python",
   "pygments_lexer": "ipython3",
   "version": "3.6.9"
  }
 },
 "nbformat": 4,
 "nbformat_minor": 5
}
