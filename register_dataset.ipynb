{
 "cells": [
  {
   "cell_type": "code",
   "execution_count": null,
   "id": "63e1afe1",
   "metadata": {},
   "outputs": [],
   "source": [
    "from azureml.core import Workspace,Datastore,Dataset"
   ]
  },
  {
   "cell_type": "code",
   "execution_count": null,
   "id": "1a91b46d",
   "metadata": {},
   "outputs": [],
   "source": [
    "ws = Workspace.from_config()\n",
    "print(ws)"
   ]
  },
  {
   "cell_type": "code",
   "execution_count": null,
   "id": "bbf5024b",
   "metadata": {},
   "outputs": [],
   "source": [
    "# retrieve an existing datastore in the workspace by name\n",
    "datastore  = ws.get_default_datastore()\n",
    "#upload directory\n",
    "dataset = Dataset.File.upload_directory(src_dir=\"data\", \n",
    "                                        target=(datastore, \"wq\"))"
   ]
  },
  {
   "cell_type": "code",
   "execution_count": null,
   "id": "a7745e48",
   "metadata": {},
   "outputs": [],
   "source": [
    "fd = Dataset.File.from_files(path=(datastore,'/'))\n",
    "for fp in fd.to_path():\n",
    "    print(fp)"
   ]
  },
  {
   "cell_type": "code",
   "execution_count": null,
   "id": "c0bc2d21",
   "metadata": {},
   "outputs": [],
   "source": [
    "# create a TabularDataset from 1 file paths in datastore\n",
    "#datastore_paths = [(datastore, \"winequality\")]\n",
    "#create a tabular object from csv\n",
    "custom_ds = Dataset.Tabular.from_delimited_files(path=(datastore,\"/wq/winequality-red.csv\"),separator=';', header=True,encoding='utf8')\n"
   ]
  },
  {
   "cell_type": "code",
   "execution_count": null,
   "id": "ebb87bba",
   "metadata": {},
   "outputs": [],
   "source": [
    "custom_ds.take(3).to_pandas_dataframe()"
   ]
  },
  {
   "cell_type": "code",
   "execution_count": null,
   "id": "115f6207",
   "metadata": {},
   "outputs": [],
   "source": [
    "#register dataset\n",
    "custom_ds.register(workspace=ws,\n",
    "                  name=\"winequality\",\n",
    "                  description=\"desc wq\")"
   ]
  },
  {
   "cell_type": "code",
   "execution_count": null,
   "id": "376d389e",
   "metadata": {},
   "outputs": [],
   "source": [
    "ds = Dataset.get_by_name(ws,\"winequality\").to_pandas_dataframe()\n",
    "ds.head(3)"
   ]
  },
  {
   "cell_type": "code",
   "execution_count": null,
   "id": "02d5b4d8",
   "metadata": {},
   "outputs": [],
   "source": [
    "#create train/test sets\n",
    "\n",
    "from sklearn.model_selection import train_test_split\n",
    "y = ds['quality']\n",
    "X = ds.drop('quality',axis=1)\n",
    "X_train, X_test, y_train, y_test = train_test_split(X, y, test_size=0.33, random_state=42)"
   ]
  },
  {
   "cell_type": "code",
   "execution_count": null,
   "id": "638a945d",
   "metadata": {},
   "outputs": [],
   "source": [
    "X_train.columns"
   ]
  },
  {
   "cell_type": "code",
   "execution_count": null,
   "id": "0cc411eb",
   "metadata": {},
   "outputs": [],
   "source": [
    "train_dt = X_train\n",
    "train_dt['quality'] = y_train\n",
    "train_dt.columns\n"
   ]
  },
  {
   "cell_type": "code",
   "execution_count": null,
   "id": "1d910256",
   "metadata": {},
   "outputs": [],
   "source": [
    "test_dt = X_test\n",
    "test_dt['quality'] = y_test\n",
    "test_dt.columns"
   ]
  },
  {
   "cell_type": "code",
   "execution_count": null,
   "id": "38684e9f",
   "metadata": {},
   "outputs": [],
   "source": [
    "train_dt.to_csv(\"data/wine-quality-train.csv\")\n",
    "test_dt.to_csv(\"data/wine-quality-test.csv\")"
   ]
  },
  {
   "cell_type": "code",
   "execution_count": null,
   "id": "178dccbd",
   "metadata": {},
   "outputs": [],
   "source": []
  },
  {
   "cell_type": "code",
   "execution_count": null,
   "id": "34638875",
   "metadata": {},
   "outputs": [],
   "source": [
    "#datastore.upload_files(files=['data/wine-quality-train.csv','data/wine-quality-test.csv'])\n",
    "#upload train & test sets to datastore\n",
    "dataset2 = Dataset.File.upload_directory(src_dir=\"data\", \n",
    "                                        target=(datastore, \"wq\"))"
   ]
  },
  {
   "cell_type": "code",
   "execution_count": null,
   "id": "9b7ae67c",
   "metadata": {},
   "outputs": [],
   "source": [
    "trcsvpath = [(datastore,'/wq/wine-quality-train.csv')]\n",
    "tstcsvpath = [(datastore,'/wq/wine-quality-test.csv')]\n",
    "\n",
    "trds = Dataset.Tabular.from_delimited_files(path=trcsvpath)\n",
    "trds = trds.register(ws,'wine-quality-train')\n",
    "tstds = Dataset.Tabular.from_delimited_files(path=tstcsvpath)\n",
    "tstds = trds.register(ws,'wine-quality-test')"
   ]
  },
  {
   "cell_type": "code",
   "execution_count": null,
   "id": "43fcce94",
   "metadata": {},
   "outputs": [],
   "source": [
    "Dataset.get_by_name(ws,'wine-quality-train').to_pandas_dataframe().head(3)"
   ]
  },
  {
   "cell_type": "code",
   "execution_count": null,
   "id": "21c2bf49",
   "metadata": {},
   "outputs": [],
   "source": []
  }
 ],
 "metadata": {
  "kernelspec": {
   "display_name": "Python 3.6 - AzureML",
   "language": "python",
   "name": "python3-azureml"
  },
  "language_info": {
   "codemirror_mode": {
    "name": "ipython",
    "version": 3
   },
   "file_extension": ".py",
   "mimetype": "text/x-python",
   "name": "python",
   "nbconvert_exporter": "python",
   "pygments_lexer": "ipython3",
   "version": "3.6.9"
  }
 },
 "nbformat": 4,
 "nbformat_minor": 5
}
